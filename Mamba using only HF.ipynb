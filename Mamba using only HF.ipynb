{
 "cells": [
  {
   "cell_type": "code",
   "execution_count": 1,
   "id": "9451cecc",
   "metadata": {},
   "outputs": [
    {
     "name": "stderr",
     "output_type": "stream",
     "text": [
      "/usr/lib/python3/dist-packages/scipy/__init__.py:146: UserWarning: A NumPy version >=1.17.3 and <1.25.0 is required for this version of SciPy (detected version 1.25.2\n",
      "  warnings.warn(f\"A NumPy version >={np_minversion} and <{np_maxversion}\"\n"
     ]
    }
   ],
   "source": [
    "from transformers import AutoTokenizer, AutoModelForSeq2SeqLM\n",
    "import torch\n",
    "from datasets import load_dataset, Dataset\n",
    "\n",
    "dataset = load_dataset(\"ai4bharat/samanantar\", \"te\")\n",
    "tokenizer = AutoTokenizer.from_pretrained(\"google/byt5-small\")"
   ]
  },
  {
   "cell_type": "code",
   "execution_count": 2,
   "id": "08b8e602",
   "metadata": {},
   "outputs": [
    {
     "data": {
      "text/plain": [
       "DatasetDict({\n",
       "    train: Dataset({\n",
       "        features: ['idx', 'src', 'tgt'],\n",
       "        num_rows: 4946035\n",
       "    })\n",
       "})"
      ]
     },
     "execution_count": 2,
     "metadata": {},
     "output_type": "execute_result"
    }
   ],
   "source": [
    "dataset"
   ]
  },
  {
   "cell_type": "code",
   "execution_count": 3,
   "id": "6c2295b6",
   "metadata": {},
   "outputs": [],
   "source": [
    "from collections import defaultdict\n",
    "from tqdm import tqdm\n",
    "from datasets import Dataset\n",
    "\n",
    "\n",
    "def filter_streaming_dataset(dataset):\n",
    "    filtered_dict = defaultdict(list)\n",
    "    total = 0\n",
    "    for sample in tqdm(iter(dataset)):\n",
    "        total += 1\n",
    "#         if total < 6:\n",
    "#             print(sample)\n",
    "        if total< 1000:\n",
    "            filtered_dict[str(\"tgt\")].append(sample[\"tgt\"])\n",
    "        else:\n",
    "            break\n",
    "\n",
    "#         if total == 6:\n",
    "#             break\n",
    "    print(f\"{len(filtered_dict.keys())/total:.2%} of data after filtering.\")\n",
    "#     print(filtered_dict)\n",
    "    return Dataset.from_dict(filtered_dict)\n",
    "#     return filtered_dict"
   ]
  },
  {
   "cell_type": "code",
   "execution_count": 4,
   "id": "6bc929fc",
   "metadata": {},
   "outputs": [
    {
     "name": "stderr",
     "output_type": "stream",
     "text": [
      "999it [00:00, 24598.80it/s]"
     ]
    },
    {
     "name": "stdout",
     "output_type": "stream",
     "text": [
      "0.10% of data after filtering.\n"
     ]
    },
    {
     "name": "stderr",
     "output_type": "stream",
     "text": [
      "\n"
     ]
    }
   ],
   "source": [
    "from datasets import load_dataset\n",
    "filtered_ds = filter_streaming_dataset(dataset[\"train\"])"
   ]
  },
  {
   "cell_type": "code",
   "execution_count": 6,
   "id": "22c6fba8",
   "metadata": {},
   "outputs": [],
   "source": [
    "# Determine the number of samples for train and validation sets\n",
    "from datasets import Dataset, DatasetDict\n",
    "train_size = int(len(filtered_ds) * 0.8)  # 80% for training\n",
    "valid_size = len(filtered_ds) - train_size  # Remaining for validation\n",
    "\n",
    "# Split the dataset into train and validation sets\n",
    "ds_train = filtered_ds.select(list(range(train_size)))\n",
    "ds_valid = filtered_ds.select(list(range(train_size, train_size + valid_size)))\n",
    "\n",
    "# Create DatasetDict with train and validation sets\n",
    "raw_datasets = DatasetDict({\"train\": ds_train, \"valid\": ds_valid})"
   ]
  },
  {
   "cell_type": "code",
   "execution_count": 7,
   "id": "dbf24108",
   "metadata": {},
   "outputs": [
    {
     "data": {
      "text/plain": [
       "DatasetDict({\n",
       "    train: Dataset({\n",
       "        features: ['tgt'],\n",
       "        num_rows: 799\n",
       "    })\n",
       "    valid: Dataset({\n",
       "        features: ['tgt'],\n",
       "        num_rows: 200\n",
       "    })\n",
       "})"
      ]
     },
     "execution_count": 7,
     "metadata": {},
     "output_type": "execute_result"
    }
   ],
   "source": [
    "raw_datasets"
   ]
  },
  {
   "cell_type": "code",
   "execution_count": 55,
   "id": "6ed6f3fc",
   "metadata": {},
   "outputs": [
    {
     "data": {
      "application/vnd.jupyter.widget-view+json": {
       "model_id": "1e37ffe280d447149fbc5fee2cf97e2a",
       "version_major": 2,
       "version_minor": 0
      },
      "text/plain": [
       "Map:   0%|          | 0/799 [00:00<?, ? examples/s]"
      ]
     },
     "metadata": {},
     "output_type": "display_data"
    },
    {
     "name": "stdout",
     "output_type": "stream",
     "text": [
      "799\n"
     ]
    },
    {
     "data": {
      "application/vnd.jupyter.widget-view+json": {
       "model_id": "641149ca8e83432e8b8b0cd54919a03f",
       "version_major": 2,
       "version_minor": 0
      },
      "text/plain": [
       "Map:   0%|          | 0/200 [00:00<?, ? examples/s]"
      ]
     },
     "metadata": {},
     "output_type": "display_data"
    },
    {
     "name": "stdout",
     "output_type": "stream",
     "text": [
      "200\n"
     ]
    },
    {
     "data": {
      "text/plain": [
       "DatasetDict({\n",
       "    train: Dataset({\n",
       "        features: ['input_ids'],\n",
       "        num_rows: 371\n",
       "    })\n",
       "    valid: Dataset({\n",
       "        features: ['input_ids'],\n",
       "        num_rows: 88\n",
       "    })\n",
       "})"
      ]
     },
     "execution_count": 55,
     "metadata": {},
     "output_type": "execute_result"
    }
   ],
   "source": [
    "def tokenize(element):\n",
    "    outputs = tokenizer(\n",
    "        element[\"tgt\"],\n",
    "        truncation=True,\n",
    "        max_length=128,\n",
    "        return_overflowing_tokens=True,\n",
    "        return_length=True,\n",
    "    )\n",
    "    input_batch = []\n",
    "    for length, input_ids in zip(outputs[\"length\"], outputs[\"input_ids\"]):\n",
    "        if length ==128:\n",
    "            input_batch.append(input_ids)\n",
    "    print(len(outputs[\"input_ids\"]))\n",
    "    return {\"input_ids\": input_batch}\n",
    "\n",
    "\n",
    "tokenized_datasets = raw_datasets.map(\n",
    "    tokenize, batched=True, remove_columns=raw_datasets[\"train\"].column_names\n",
    ")\n",
    "tokenized_datasets"
   ]
  },
  {
   "cell_type": "code",
   "execution_count": 12,
   "id": "ba2f04b0",
   "metadata": {},
   "outputs": [
    {
     "name": "stdout",
     "output_type": "stream",
     "text": [
      "/home/yashc/elephant/mamba-hf/src\n"
     ]
    }
   ],
   "source": [
    "cd src"
   ]
  },
  {
   "cell_type": "code",
   "execution_count": 63,
   "id": "fe88a004",
   "metadata": {},
   "outputs": [],
   "source": [
    "# from modeling_mamba import MambaForCausalLM\n",
    "# from transformers import AutoTokenizer\n",
    "# model = MambaForCausalLM.from_pretrained('Q-bert/Mamba-130M')\n",
    "# model.init_weights()\n",
    "from configuration_mamba import MambaConfig\n",
    "import torch\n",
    "import torch.nn as nn\n",
    "import torch.nn.functional as F\n",
    "from modeling_mamba import MambaModel, MambaForCausalLM\n",
    "# Assuming the MambaConfig class is defined as provided\n",
    "# And assuming MambaModel and MambaForCausalLM classes are defined as per your initial code\n",
    "\n",
    "# Step 1: Create a MambaConfig instance with desired configurations\n",
    "config = MambaConfig(\n",
    "    vocab_size=512,  # Adjust vocab size as needed\n",
    "    d_model=256,  # Model dimension\n",
    "    d_conv=4,  # Convolution kernel size\n",
    "    expand=2,  # Expansion factor for inner dimension calculation\n",
    "    conv_bias=True,  # Whether to use bias in convolution layers\n",
    "    bias=False,  # Whether to use bias in other layers\n",
    "    n_layer=4,  # Number of layers in the model\n",
    "    dt_rank=\"auto\",  # Automatically determine dt_rank or set a specific integer value\n",
    "    pad_vocab_size_multiple=8,  # Ensure vocab size is a multiple of this value\n",
    "    initializer_range=0.02  # Initializer range for model parameters\n",
    ")\n",
    "\n",
    "\n",
    "mamba_causal_lm = MambaForCausalLM(config)\n",
    "\n"
   ]
  },
  {
   "cell_type": "code",
   "execution_count": 64,
   "id": "952967cd",
   "metadata": {},
   "outputs": [],
   "source": [
    "from transformers import Trainer\n",
    "\n",
    "class MambaTrainer(Trainer):\n",
    "    def compute_loss(self, model, inputs, return_outputs=False):\n",
    "#         print(inputs, \"HERE\")\n",
    "#         print(inputs)\n",
    "        input_ids = inputs.pop(\"input_ids\")\n",
    "#         print(\"INPUT IDs\", input_ids)\n",
    "#         print(input_ids)\n",
    "#         print(input_ids)\n",
    "        lm_logits = model(input_ids)[0]\n",
    "#         print(lm_logits)\n",
    "        labels = input_ids.to(lm_logits.device)\n",
    "        shift_logits = lm_logits[:, :-1, :].contiguous()\n",
    "        labels = labels[:, 1:].contiguous()\n",
    "#         print(\"LABELS: \", labels)\n",
    "#         tokenizer.decode(lm_logits)\n",
    "        loss_fct = torch.nn.CrossEntropyLoss()\n",
    "        lm_loss = loss_fct(shift_logits.view(-1, shift_logits.size(-1)), labels.view(-1))\n",
    "#         print(lm_loss)\n",
    "        return lm_loss"
   ]
  },
  {
   "cell_type": "code",
   "execution_count": 65,
   "id": "05daf6ec",
   "metadata": {},
   "outputs": [],
   "source": [
    "from transformers import Trainer, TrainingArguments\n",
    "torch.cuda.empty_cache()\n",
    "args = TrainingArguments(\n",
    "    output_dir=\"codeparrot-ds\",\n",
    "    per_device_train_batch_size=4,\n",
    "    per_device_eval_batch_size=1,\n",
    "    evaluation_strategy=\"steps\",\n",
    "    num_train_epochs=4,\n",
    "    weight_decay=0.1,\n",
    "    warmup_steps=1_000,\n",
    "    lr_scheduler_type=\"cosine\",\n",
    "    learning_rate=5e-4,\n",
    "    save_steps=5_000,\n",
    "    fp16=True,\n",
    ")\n",
    "\n",
    "trainer = MambaTrainer(\n",
    "    model=mamba_causal_lm,\n",
    "    tokenizer=tokenizer,\n",
    "    args=args,\n",
    "    train_dataset=tokenized_datasets[\"train\"],\n",
    "    eval_dataset=tokenized_datasets[\"valid\"],\n",
    ")"
   ]
  },
  {
   "cell_type": "code",
   "execution_count": 66,
   "id": "0db9c3c0",
   "metadata": {},
   "outputs": [
    {
     "data": {
      "text/html": [
       "\n",
       "    <div>\n",
       "      \n",
       "      <progress value='188' max='188' style='width:300px; height:20px; vertical-align: middle;'></progress>\n",
       "      [188/188 01:11, Epoch 4/4]\n",
       "    </div>\n",
       "    <table border=\"1\" class=\"dataframe\">\n",
       "  <thead>\n",
       " <tr style=\"text-align: left;\">\n",
       "      <th>Step</th>\n",
       "      <th>Training Loss</th>\n",
       "      <th>Validation Loss</th>\n",
       "    </tr>\n",
       "  </thead>\n",
       "  <tbody>\n",
       "  </tbody>\n",
       "</table><p>"
      ],
      "text/plain": [
       "<IPython.core.display.HTML object>"
      ]
     },
     "metadata": {},
     "output_type": "display_data"
    },
    {
     "data": {
      "text/plain": [
       "TrainOutput(global_step=188, training_loss=4.27571495543135, metrics={'train_runtime': 71.678, 'train_samples_per_second': 20.704, 'train_steps_per_second': 2.623, 'total_flos': 1997140131840.0, 'train_loss': 4.27571495543135, 'epoch': 4.0})"
      ]
     },
     "execution_count": 66,
     "metadata": {},
     "output_type": "execute_result"
    }
   ],
   "source": [
    "trainer.train()"
   ]
  },
  {
   "cell_type": "code",
   "execution_count": null,
   "id": "34ab518a",
   "metadata": {},
   "outputs": [],
   "source": []
  },
  {
   "cell_type": "code",
   "execution_count": null,
   "id": "41dd84c9",
   "metadata": {},
   "outputs": [],
   "source": []
  }
 ],
 "metadata": {
  "kernelspec": {
   "display_name": "pose",
   "language": "python",
   "name": "pose"
  },
  "language_info": {
   "codemirror_mode": {
    "name": "ipython",
    "version": 3
   },
   "file_extension": ".py",
   "mimetype": "text/x-python",
   "name": "python",
   "nbconvert_exporter": "python",
   "pygments_lexer": "ipython3",
   "version": "3.10.12"
  }
 },
 "nbformat": 4,
 "nbformat_minor": 5
}
