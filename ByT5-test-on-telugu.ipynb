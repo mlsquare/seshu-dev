{
 "cells": [
  {
   "cell_type": "code",
   "execution_count": null,
   "id": "93038f67",
   "metadata": {},
   "outputs": [
    {
     "name": "stderr",
     "output_type": "stream",
     "text": [
      "/Users/soma/opt/anaconda3/envs/shane/lib/python3.9/site-packages/tqdm/auto.py:21: TqdmWarning: IProgress not found. Please update jupyter and ipywidgets. See https://ipywidgets.readthedocs.io/en/stable/user_install.html\n",
      "  from .autonotebook import tqdm as notebook_tqdm\n"
     ]
    }
   ],
   "source": [
    "from transformers import AutoTokenizer\n",
    "tokenizer = AutoTokenizer.from_pretrained(\"google/byt5-small\")"
   ]
  },
  {
   "cell_type": "code",
   "execution_count": null,
   "id": "ab189159",
   "metadata": {},
   "outputs": [],
   "source": [
    "input_ids_prompt = \"The dog chases a ball in the park.\"\n",
    "input_ids = tokenizer(input_ids_prompt).input_ids"
   ]
  },
  {
   "cell_type": "code",
   "execution_count": null,
   "id": "bd5af0a9",
   "metadata": {},
   "outputs": [
    {
     "name": "stdout",
     "output_type": "stream",
     "text": [
      "[87, 107, 104, 35, 103, 114, 106, 35, 102, 107, 100, 118, 104, 118, 35, 100, 35, 101, 100, 111, 111, 35, 108, 113, 35, 119, 107, 104, 35, 115, 100, 117, 110, 49, 1]\n"
     ]
    }
   ],
   "source": [
    "print(input_ids)"
   ]
  },
  {
   "cell_type": "code",
   "execution_count": null,
   "id": "aecbd116",
   "metadata": {},
   "outputs": [
    {
     "name": "stderr",
     "output_type": "stream",
     "text": [
      "2024-02-16 19:45:59.590967: I tensorflow/core/platform/cpu_feature_guard.cc:182] This TensorFlow binary is optimized to use available CPU instructions in performance-critical operations.\n",
      "To enable the following instructions: AVX2 FMA, in other operations, rebuild TensorFlow with the appropriate compiler flags.\n"
     ]
    }
   ],
   "source": [
    "output_string = tokenizer.decode(input_ids)"
   ]
  },
  {
   "cell_type": "code",
   "execution_count": null,
   "id": "1b566d4c",
   "metadata": {},
   "outputs": [
    {
     "name": "stdout",
     "output_type": "stream",
     "text": [
      "The dog chases a ball in the park.</s>\n"
     ]
    }
   ],
   "source": [
    "print(output_string)"
   ]
  },
  {
   "cell_type": "code",
   "execution_count": null,
   "id": "121207a2",
   "metadata": {},
   "outputs": [
    {
     "name": "stdout",
     "output_type": "stream",
     "text": [
      "[227, 179, 167, 227, 180, 138, 227, 179, 181, 227, 179, 194, 227, 179, 152, 227, 179, 154, 227, 179, 193, 35, 227, 179, 167, 227, 180, 137, 227, 179, 181, 227, 180, 132, 227, 179, 154, 227, 180, 132, 227, 179, 181, 227, 180, 142, 1]\n",
      "decoded string తేలికగా తెలుగులో</s>\n"
     ]
    }
   ],
   "source": [
    "input_ids_prompt = \"తేలికగా తెలుగులో\"\n",
    "input_ids = tokenizer(input_ids_prompt).input_ids\n",
    "print(input_ids)\n",
    "output_string = tokenizer.decode(input_ids)\n",
    "print('decoded string',output_string)"
   ]
  },
  {
   "cell_type": "code",
   "execution_count": null,
   "id": "2d760854",
   "metadata": {},
   "outputs": [
    {
     "data": {
      "text/plain": [
       "256"
      ]
     },
     "execution_count": null,
     "metadata": {},
     "output_type": "execute_result"
    }
   ],
   "source": [
    "tokenizer.vocab_size"
   ]
  },
  {
   "cell_type": "code",
   "execution_count": null,
   "id": "e41237c3",
   "metadata": {},
   "outputs": [
    {
     "name": "stderr",
     "output_type": "stream",
     "text": [
      "You are using the default legacy behaviour of the <class 'transformers.models.t5.tokenization_t5.T5Tokenizer'>. This is expected, and simply means that the `legacy` (previous) behavior will be used so nothing changes for you. If you want to use the new behaviour, set `legacy=False`. This should only be set if you understand what it means, and thoroughly read the reason why this was added as explained in https://github.com/huggingface/transformers/pull/24565\n",
      "/Users/soma/opt/anaconda3/envs/shane/lib/python3.9/site-packages/transformers/convert_slow_tokenizer.py:515: UserWarning: The sentencepiece tokenizer that you are converting to a fast tokenizer uses the byte fallback option which is not implemented in the fast tokenizers. In practice this means that the fast version of the tokenizer can produce unknown tokens whereas the sentencepiece version would have converted these unknown tokens into a sequence of byte tokens matching the original piece of text.\n",
      "  warnings.warn(\n"
     ]
    }
   ],
   "source": [
    "tokenizer = AutoTokenizer.from_pretrained(\"google/mt5-small\")"
   ]
  },
  {
   "cell_type": "code",
   "execution_count": null,
   "id": "9cde6522",
   "metadata": {},
   "outputs": [
    {
     "name": "stdout",
     "output_type": "stream",
     "text": [
      "vocab size 250100\n",
      "[182628, 18679, 3813, 39971, 2965, 1]\n",
      "decoded string తేలికగా తెలుగులో</s>\n"
     ]
    }
   ],
   "source": [
    "print('vocab size',tokenizer.vocab_size)\n",
    "input_ids_prompt = \"తేలికగా తెలుగులో\"\n",
    "input_ids = tokenizer(input_ids_prompt).input_ids\n",
    "print(input_ids)\n",
    "output_string = tokenizer.decode(input_ids)\n",
    "print('decoded string',output_string)"
   ]
  },
  {
   "cell_type": "code",
   "execution_count": null,
   "id": "73e88c4e",
   "metadata": {},
   "outputs": [
    {
     "name": "stdout",
     "output_type": "stream",
     "text": [
      "vocab size 256\n",
      "[227, 179, 167, 227, 180, 138, 227, 179, 181, 227, 179, 194, 227, 179, 152, 227, 179, 154, 227, 179, 193, 35, 227, 179, 167, 227, 180, 137, 227, 179, 181, 227, 180, 132, 227, 179, 154, 227, 180, 132, 227, 179, 181, 227, 180, 142, 1]\n",
      "decoded string తేలికగా తెలుగులో</s>\n"
     ]
    }
   ],
   "source": [
    "tokenizer = AutoTokenizer.from_pretrained('google/byt5-large')\n",
    "print('vocab size',tokenizer.vocab_size)\n",
    "input_ids_prompt = \"తేలికగా తెలుగులో\"\n",
    "input_ids = tokenizer(input_ids_prompt).input_ids\n",
    "print(input_ids)\n",
    "output_string = tokenizer.decode(input_ids)\n",
    "print('decoded string',output_string)"
   ]
  },
  {
   "cell_type": "code",
   "execution_count": null,
   "id": "7ae680d0",
   "metadata": {},
   "outputs": [
    {
     "name": "stdout",
     "output_type": "stream",
     "text": [
      "తేలికగా తెలుగులో</s>\n"
     ]
    }
   ],
   "source": [
    "print(tokenizer.decode(input_ids))"
   ]
  },
  {
   "cell_type": "code",
   "execution_count": null,
   "id": "3398fb19",
   "metadata": {},
   "outputs": [
    {
     "data": {
      "text/plain": [
       "47"
      ]
     },
     "execution_count": null,
     "metadata": {},
     "output_type": "execute_result"
    }
   ],
   "source": [
    "len(input_ids)"
   ]
  },
  {
   "cell_type": "code",
   "execution_count": null,
   "id": "9a9ea4c5",
   "metadata": {},
   "outputs": [
    {
     "name": "stdout",
     "output_type": "stream",
     "text": [
      "[227, 175, 167, 227, 176, 132, 227, 175, 177, 227, 175, 179, 35, 227, 175, 171, 227, 175, 193, 227, 175, 177, 35, 227, 175, 152, 227, 175, 166, 1]\n",
      "decoded string ତୁମର ନାମ କଣ</s>\n",
      "30\n"
     ]
    }
   ],
   "source": [
    "input_ids_prompt = \"ତୁମର ନାମ କଣ\"\n",
    "input_ids = tokenizer(input_ids_prompt).input_ids\n",
    "print(input_ids)\n",
    "output_string = tokenizer.decode(input_ids)\n",
    "print('decoded string',output_string)\n",
    "print(len(input_ids))"
   ]
  },
  {
   "cell_type": "code",
   "execution_count": null,
   "id": "221fdf26",
   "metadata": {},
   "outputs": [],
   "source": []
  }
 ],
 "metadata": {
  "kernelspec": {
   "display_name": "shane",
   "language": "python",
   "name": "shane"
  }
 },
 "nbformat": 4,
 "nbformat_minor": 5
}
