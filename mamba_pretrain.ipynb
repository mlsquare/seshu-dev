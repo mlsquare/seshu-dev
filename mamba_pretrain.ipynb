{
 "cells": [
  {
   "cell_type": "code",
   "execution_count": null,
   "id": "ac800b6e",
   "metadata": {},
   "outputs": [],
   "source": [
    "!huggingface-cli login --token $TOKEN$ --add-to-git-credential "
   ]
  },
  {
   "cell_type": "code",
   "execution_count": null,
   "id": "3a569b1d",
   "metadata": {},
   "outputs": [],
   "source": [
    "cd src"
   ]
  },
  {
   "cell_type": "code",
   "execution_count": null,
   "id": "9451cecc",
   "metadata": {},
   "outputs": [],
   "source": [
    "from transformers import AutoTokenizer, AutoModelForSeq2SeqLM, Trainer,TrainingArguments\n",
    "import torch\n",
    "from datasets import load_dataset, Dataset\n",
    "import json\n",
    "from configuration_mamba import MambaConfig\n",
    "from modeling_mamba import MambaModel, MambaForCausalLM\n",
    "import torch.nn as nn\n",
    "import torch.nn.functional as F\n"
   ]
  },
  {
   "cell_type": "code",
   "execution_count": null,
   "id": "22c6fba8",
   "metadata": {},
   "outputs": [],
   "source": [
    "def load_json(json_path):\n",
    "    with open(json_path, \"r\") as json_file:\n",
    "        loaded_data = json.load(json_file)\n",
    "    return loaded_data\n",
    "\n",
    "def load_data(data_path):\n",
    "    return load_dataset(data_path)\n",
    "\n",
    "def load_model(config):\n",
    "    return MambaForCausalLM(config)\n",
    "\n",
    "def load_tokenizer(path):\n",
    "    return AutoTokenizer.from_pretrained(path)\n",
    "\n",
    "def make_config(json):\n",
    "    config = MambaConfig(\n",
    "    vocab_size = json[\"vocab_size\"],\n",
    "    d_model = json[\"d_model\"],\n",
    "    d_conv = json[\"d_conv\"],\n",
    "    expand = json[\"expand\"],\n",
    "    conv_bias = json[\"conv_bias\"],\n",
    "    bias = json[\"bias\"],\n",
    "    n_layer = json[\"n_layer\"],\n",
    "    dt_rank = json[\"dt_rank\"],\n",
    "    pad_vocab_size_multiple = json[\"pad_vocab_size_multiple\"],\n",
    "    initializer_range = json[\"initializer_range\"],\n",
    "    )\n",
    "    return config\n",
    "\n",
    "def split_data(data):\n",
    "    train_size = int(len(data) * 0.8)\n",
    "    valid_size = len(data) - train_size \n",
    "\n",
    "    ds_train = data.select(list(range(train_size)))\n",
    "    ds_valid = data.select(list(range(train_size, train_size + valid_size)))\n",
    "\n",
    "    return DatasetDict({\"train\": ds_train, \"valid\": ds_valid})\n",
    "\n",
    "\n",
    "def tokenize(data):\n",
    "    outputs = tokenizer(\n",
    "        data[\"tgt\"],\n",
    "        truncation=True,\n",
    "        max_length=1024,\n",
    "        return_overflowing_tokens=True,\n",
    "        return_length=True,\n",
    "    )\n",
    "    input_batch = []\n",
    "    for length, input_ids in zip(outputs[\"length\"], outputs[\"input_ids\"]):\n",
    "        if length != 0:\n",
    "            input_batch.append(input_ids)\n",
    "    return {\"input_ids\": input_batch}\n",
    "\n",
    "class MambaTrainer(Trainer):\n",
    "    def compute_loss(self, model, inputs, return_outputs=False):\n",
    "        input_ids = inputs.pop(\"input_ids\")\n",
    "        lm_logits = model(input_ids)[0]\n",
    "        labels = input_ids.to(lm_logits.device)\n",
    "        shift_logits = lm_logits[:, :-1, :].contiguous()\n",
    "        labels = labels[:, 1:].contiguous()\n",
    "        loss_fct = torch.nn.CrossEntropyLoss()\n",
    "        lm_loss = loss_fct(shift_logits.view(-1, shift_logits.size(-1)), labels.view(-1))\n",
    "        return lm_loss"
   ]
  },
  {
   "cell_type": "code",
   "execution_count": null,
   "id": "e97ec84f",
   "metadata": {},
   "outputs": [],
   "source": [
    "def pretrain(json, train_args):\n",
    "    config_data = load_json(json)\n",
    "    model_config = make_config(config_data)\n",
    "    model = load_model(model_config)\n",
    "    tok = load_tokenizer(config_data[\"tokenizer_path\"])\n",
    "    \n",
    "    data = load_data(config_data[\"data\"])\n",
    "#     data = split_data(data)\n",
    "    tokenized_data = data.map(tokenize, batched=True, remove_columns=data[\"train\"].column_names)\n",
    "    trainer = MambaTrainer( model=model, tokenizer=tok, args=train_args,\n",
    "                            train_dataset=tokenized_data[\"train\"], eval_dataset=tokenized_data[\"valid\"])\n",
    "    trainer.train()\n",
    "    model.push_to_hub(config_data[\"upload_path\"])"
   ]
  },
  {
   "cell_type": "code",
   "execution_count": null,
   "id": "a68bc619",
   "metadata": {},
   "outputs": [],
   "source": [
    "train_args = TrainingArguments(\n",
    "    output_dir=\"mamba\",\n",
    "    per_device_train_batch_size=4,\n",
    "    per_device_eval_batch_size=1,\n",
    "    evaluation_strategy=\"steps\",\n",
    "    num_train_epochs=4,\n",
    "    weight_decay=0.1,\n",
    "    warmup_steps=1_000,\n",
    "    lr_scheduler_type=\"cosine\",\n",
    "    learning_rate=5e-4,\n",
    "    save_steps=5_000,\n",
    "    fp16=True,\n",
    ")\n",
    "tokenizer = AutoTokenizer.from_pretrained(\"google/byt5-large\")\n",
    "pretrain(\"model_parameters.json\", train_args)"
   ]
  },
  {
   "cell_type": "code",
   "execution_count": null,
   "id": "d904705a",
   "metadata": {},
   "outputs": [],
   "source": [
    "##CONFIG GENERATION"
   ]
  },
  {
   "cell_type": "code",
   "execution_count": null,
   "id": "9894721b",
   "metadata": {},
   "outputs": [],
   "source": [
    "import json\n",
    "data = {\n",
    "    \"vocab_size\": 7000,\n",
    "    \"d_model\": 256,\n",
    "    \"d_conv\": 4,\n",
    "    \"expand\": 2,\n",
    "    \"conv_bias\": True,\n",
    "    \"bias\": False,\n",
    "    \"n_layer\": 4,\n",
    "    \"dt_rank\": \"auto\",\n",
    "    \"pad_vocab_size_multiple\": 8,\n",
    "    \"initializer_range\": 0.02,\n",
    "    \"tokenizer_path\": \"google/byt5-large\",\n",
    "    \"upload_path\" : \"mlsquare/samantar_merged_with_train_val\",\n",
    "    \"data\" : \"mlsquare/samantar1per_cent_merged_with_train_val\"\n",
    "}\n",
    "\n",
    "# Convert the dictionary to JSON format\n",
    "json_data = json.dumps(data, indent=4)\n",
    "\n",
    "# Save the JSON data to a file\n",
    "with open(\"model_parameters.json\", \"w\") as json_file:\n",
    "    json_file.write(json_data)\n",
    "    \n",
    "with open(\"model_parameters.json\", \"r\") as json_file:\n",
    "    loaded_data = json.load(json_file)\n",
    "\n",
    "# Print the loaded data\n",
    "print(loaded_data)"
   ]
  }
 ],
 "metadata": {
  "kernelspec": {
   "display_name": "pose",
   "language": "python",
   "name": "pose"
  },
  "language_info": {
   "codemirror_mode": {
    "name": "ipython",
    "version": 3
   },
   "file_extension": ".py",
   "mimetype": "text/x-python",
   "name": "python",
   "nbconvert_exporter": "python",
   "pygments_lexer": "ipython3",
   "version": "3.10.12"
  }
 },
 "nbformat": 4,
 "nbformat_minor": 5
}
