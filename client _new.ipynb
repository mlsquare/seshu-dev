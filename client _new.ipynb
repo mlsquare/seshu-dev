{
 "cells": [
  {
   "cell_type": "code",
   "execution_count": null,
   "id": "ac800b6e",
   "metadata": {},
   "outputs": [],
   "source": [
    "!huggingface-cli login --token $TOKEN$ --add-to-git-credential "
   ]
  },
  {
   "cell_type": "code",
   "execution_count": 1,
   "id": "3a569b1d",
   "metadata": {},
   "outputs": [
    {
     "name": "stdout",
     "output_type": "stream",
     "text": [
      "/home/yashc/elephant/mamba-hf/src\n"
     ]
    }
   ],
   "source": [
    "cd mamba-hf/src"
   ]
  },
  {
   "cell_type": "code",
   "execution_count": 19,
   "id": "9451cecc",
   "metadata": {},
   "outputs": [],
   "source": [
    "from transformers import AutoTokenizer, AutoModelForSeq2SeqLM, Trainer,TrainingArguments\n",
    "from huggingface_hub import HfApi, ModelFilter\n",
    "import torch\n",
    "from datasets import load_dataset, Dataset, DatasetDict\n",
    "import json\n",
    "from configuration_mamba import MambaConfig\n",
    "from modeling_mamba import MambaModel, MambaForCausalLM\n",
    "import torch.nn as nn\n",
    "import torch.nn.functional as F\n",
    "from peft import LoraConfig, TaskType, get_peft_model, PeftMixedModel\n",
    "from transformers import DataCollatorForLanguageModeling, AutoModelForCausalLM\n"
   ]
  },
  {
   "cell_type": "code",
   "execution_count": 20,
   "id": "22c6fba8",
   "metadata": {},
   "outputs": [],
   "source": [
    "def load_json(json_path):\n",
    "    with open(json_path, \"r\") as json_file:\n",
    "        loaded_data = json.load(json_file)\n",
    "    return loaded_data\n",
    "\n",
    "def print_trainable_parameters(model):\n",
    "    \"\"\"\n",
    "    Prints the number of trainable parameters in the model.\n",
    "    \"\"\"\n",
    "    trainable_params = 0\n",
    "    all_param = 0\n",
    "    for _, param in model.named_parameters():\n",
    "        all_param += param.numel()\n",
    "        if param.requires_grad:\n",
    "            trainable_params += param.numel()\n",
    "    print(\n",
    "        f\"trainable params: {trainable_params} || all params: {all_param} || trainable%: {100 * trainable_params / all_param}\"\n",
    "    )\n",
    "\n",
    "def load_data(data_path):\n",
    "    data = load_dataset(data_path).shuffle()\n",
    "    return DatasetDict({\"train\":  data[\"train\"].select(list(range(int(len(data[\"train\"]) * 0.5)))), \n",
    "                        \"valid\":  data[\"valid\"].select(list(range(int(len(data[\"valid\"]) * 0.5))))} )\n",
    "\n",
    "def load_model_pretrained(config):\n",
    "    return MambaForCausalLM.from_pretrained(config)\n",
    "\n",
    "def load_tokenizer(path):\n",
    "    return AutoTokenizer.from_pretrained(path)\n",
    "\n",
    "def make_config(json):\n",
    "    config = MambaConfig(\n",
    "    vocab_size = json[\"vocab_size\"],\n",
    "    d_model = json[\"d_model\"],\n",
    "    d_conv = json[\"d_conv\"],\n",
    "    expand = json[\"expand\"],\n",
    "    conv_bias = json[\"conv_bias\"],\n",
    "    bias = json[\"bias\"],\n",
    "    n_layer = json[\"n_layer\"],\n",
    "    dt_rank = json[\"dt_rank\"],\n",
    "    pad_vocab_size_multiple = json[\"pad_vocab_size_multiple\"],\n",
    "    initializer_range = json[\"initializer_range\"],\n",
    "    )\n",
    "    return config\n",
    "\n",
    "def split_data(data):\n",
    "    train_size = int(len(data) * 0.8)\n",
    "    valid_size = len(data) - train_size \n",
    "\n",
    "    ds_train = data.select(list(range(train_size)))\n",
    "    ds_valid = data.select(list(range(train_size, train_size + valid_size)))\n",
    "\n",
    "    return DatasetDict({\"train\": ds_train, \"valid\": ds_valid})\n",
    "\n",
    "def load_model(config):\n",
    "    config = make_config(config)\n",
    "    return MambaForCausalLM(config)\n",
    "\n",
    "def load_model_with_LoRA(model, target_modules):\n",
    "    config = LoraConfig(\n",
    "    target_modules = target_modules)\n",
    "    m1 = get_peft_model(model, config)\n",
    "    m1.print_trainable_parameters()\n",
    "    m1.save_pretrained(\"./wts/adapter\")\n",
    "    return m1\n",
    "\n",
    "def get_checkpoint_model(model_name):\n",
    "    def get_models_by_organization(org_id, model_name):\n",
    "        api = HfApi()\n",
    "        new_filter = ModelFilter(tags=\"mamba\")\n",
    "        models = api.list_models(filter=new_filter)\n",
    "\n",
    "        models_list = []\n",
    "        for i in models:\n",
    "            if (org_id in i.modelId):\n",
    "                print(i)\n",
    "                if((model_name in i.modelId)):\n",
    "                    return i.modelId\n",
    "        return False\n",
    "\n",
    "\n",
    "    org_id = \"mlsquare\"\n",
    "    return get_models_by_organization(org_id, model_name)\n",
    "\n",
    "def make_config(json):\n",
    "    config = MambaConfig(\n",
    "    vocab_size = json[\"vocab_size\"],\n",
    "    d_model = json[\"d_model\"],\n",
    "    d_conv = json[\"d_conv\"],\n",
    "    expand = json[\"expand\"],\n",
    "    conv_bias = json[\"conv_bias\"],\n",
    "    bias = json[\"bias\"],\n",
    "    n_layer = json[\"n_layer\"],\n",
    "    dt_rank = json[\"dt_rank\"],\n",
    "    pad_vocab_size_multiple = json[\"pad_vocab_size_multiple\"],\n",
    "    initializer_range = json[\"initializer_range\"],\n",
    "    )\n",
    "    return config\n",
    "\n",
    "class MambaTrainer(Trainer):\n",
    "    def compute_loss(self, model, inputs, return_outputs=False):        \n",
    "        input_ids = inputs.pop(\"input_ids\")\n",
    "        lm_logits = model(input_ids)[0]\n",
    "        labels = input_ids.to(lm_logits.device)\n",
    "        \n",
    "        shift_logits = lm_logits[:, :-1, :].contiguous()\n",
    "        labels = labels[:, 1:].contiguous()\n",
    "        loss_fct = torch.nn.CrossEntropyLoss()\n",
    "        lm_loss = loss_fct(shift_logits.view(-1, shift_logits.size(-1)), labels.view(-1))\n",
    "        return lm_loss"
   ]
  },
  {
   "cell_type": "code",
   "execution_count": 21,
   "id": "6e5ed93b",
   "metadata": {},
   "outputs": [],
   "source": [
    "class Seshu:\n",
    "    def __init__(self, config_file, train_args = False):\n",
    "        self.config_data = load_json(config_file)\n",
    "        if train_args:\n",
    "            self.train_args = train_args\n",
    "        else:\n",
    "            self.train_args = TrainingArguments(\n",
    "                                output_dir=\"mamba\",\n",
    "                                per_device_train_batch_size=1,\n",
    "                                per_device_eval_batch_size=1,\n",
    "                                num_train_epochs=4,\n",
    "                                weight_decay=0.1,\n",
    "                                lr_scheduler_type=\"cosine\",\n",
    "                                learning_rate=5e-4,\n",
    "                                fp16=False,\n",
    "                            )\n",
    "        self.tokenizer = load_tokenizer(self.config_data[\"tokenizer_path\"])\n",
    "        \n",
    "    def tokenize(self, data):\n",
    "        outputs = self.tokenizer(\n",
    "            data[\"tgt\"],\n",
    "            truncation=True,\n",
    "            max_length=1024,\n",
    "            return_overflowing_tokens=True,\n",
    "            return_length=True,\n",
    "        )\n",
    "        input_batch = []\n",
    "        for length, input_ids in zip(outputs[\"length\"], outputs[\"input_ids\"]):\n",
    "            if length != 0:\n",
    "                input_batch.append(input_ids)\n",
    "        return {\"input_ids\": input_batch}\n",
    "        \n",
    "    def train_lora(self):\n",
    "        try:\n",
    "            model = MambaForCausalLM.from_pretrained(self.config_data[\"model_path\"])\n",
    "            model.enable_input_require_grads()\n",
    "            model.load_adapter(self.config_data[\"adapter_path\"])\n",
    "        except Exception as e:\n",
    "            print(\"Adapter not valid!! creating new.\")\n",
    "            model = load_model_pretrained(self.config_data[\"model_path\"])\n",
    "            model = load_model_with_LoRA(model, self.config_data[\"target_modules\"])\n",
    "        self.tokenizer.pad_token = self.tokenizer.eos_token\n",
    "        data_collator = DataCollatorForLanguageModeling(self.tokenizer, mlm=False)\n",
    "        data = load_data(self.config_data[\"data\"])\n",
    "        tokenized_data = data.map(self.tokenize, batched=True, remove_columns=data[\"train\"].column_names)\n",
    "        trainer = MambaTrainer( model=model, tokenizer=self.tokenizer, args=self.train_args, data_collator=data_collator,\n",
    "                                train_dataset=tokenized_data[\"train\"], eval_dataset=tokenized_data[\"valid\"])\n",
    "        trainer.train()\n",
    "        model.push_to_hub(self.config_data[\"upload_path\"])"
   ]
  },
  {
   "cell_type": "code",
   "execution_count": 22,
   "id": "037ab556",
   "metadata": {},
   "outputs": [
    {
     "data": {
      "application/vnd.jupyter.widget-view+json": {
       "model_id": "f7876bc8399243e599c3cff88c54f6ad",
       "version_major": 2,
       "version_minor": 0
      },
      "text/plain": [
       "Map:   0%|          | 0/7040 [00:00<?, ? examples/s]"
      ]
     },
     "metadata": {},
     "output_type": "display_data"
    },
    {
     "data": {
      "application/vnd.jupyter.widget-view+json": {
       "model_id": "e0543a981c03418b90229779fde09e6b",
       "version_major": 2,
       "version_minor": 0
      },
      "text/plain": [
       "Map:   0%|          | 0/1760 [00:00<?, ? examples/s]"
      ]
     },
     "metadata": {},
     "output_type": "display_data"
    },
    {
     "data": {
      "text/html": [
       "\n",
       "    <div>\n",
       "      \n",
       "      <progress value='10' max='14080' style='width:300px; height:20px; vertical-align: middle;'></progress>\n",
       "      [   10/14080 00:04 < 2:25:43, 1.61 it/s, Epoch 0.00/4]\n",
       "    </div>\n",
       "    <table border=\"1\" class=\"dataframe\">\n",
       "  <thead>\n",
       " <tr style=\"text-align: left;\">\n",
       "      <th>Step</th>\n",
       "      <th>Training Loss</th>\n",
       "    </tr>\n",
       "  </thead>\n",
       "  <tbody>\n",
       "  </tbody>\n",
       "</table><p>"
      ],
      "text/plain": [
       "<IPython.core.display.HTML object>"
      ]
     },
     "metadata": {},
     "output_type": "display_data"
    },
    {
     "ename": "KeyboardInterrupt",
     "evalue": "",
     "output_type": "error",
     "traceback": [
      "\u001b[0;31m---------------------------------------------------------------------------\u001b[0m",
      "\u001b[0;31mKeyboardInterrupt\u001b[0m                         Traceback (most recent call last)",
      "\u001b[0;32m/tmp/ipykernel_76639/707923624.py\u001b[0m in \u001b[0;36m<module>\u001b[0;34m\u001b[0m\n\u001b[1;32m      1\u001b[0m \u001b[0mmodel\u001b[0m \u001b[0;34m=\u001b[0m \u001b[0mSeshu\u001b[0m\u001b[0;34m(\u001b[0m\u001b[0;34m\"model_parameters_lora.json\"\u001b[0m\u001b[0;34m)\u001b[0m\u001b[0;34m\u001b[0m\u001b[0;34m\u001b[0m\u001b[0m\n\u001b[0;32m----> 2\u001b[0;31m \u001b[0mmodel\u001b[0m\u001b[0;34m.\u001b[0m\u001b[0mtrain_lora\u001b[0m\u001b[0;34m(\u001b[0m\u001b[0;34m)\u001b[0m\u001b[0;34m\u001b[0m\u001b[0;34m\u001b[0m\u001b[0m\n\u001b[0m",
      "\u001b[0;32m/tmp/ipykernel_76639/1367255699.py\u001b[0m in \u001b[0;36mtrain_lora\u001b[0;34m(self)\u001b[0m\n\u001b[1;32m     46\u001b[0m         trainer = MambaTrainer( model=model, tokenizer=self.tokenizer, args=self.train_args, data_collator=data_collator,\n\u001b[1;32m     47\u001b[0m                                 train_dataset=tokenized_data[\"train\"], eval_dataset=tokenized_data[\"valid\"])\n\u001b[0;32m---> 48\u001b[0;31m         \u001b[0mtrainer\u001b[0m\u001b[0;34m.\u001b[0m\u001b[0mtrain\u001b[0m\u001b[0;34m(\u001b[0m\u001b[0;34m)\u001b[0m\u001b[0;34m\u001b[0m\u001b[0;34m\u001b[0m\u001b[0m\n\u001b[0m\u001b[1;32m     49\u001b[0m         \u001b[0mmodel\u001b[0m\u001b[0;34m.\u001b[0m\u001b[0mpush_to_hub\u001b[0m\u001b[0;34m(\u001b[0m\u001b[0mself\u001b[0m\u001b[0;34m.\u001b[0m\u001b[0mconfig_data\u001b[0m\u001b[0;34m[\u001b[0m\u001b[0;34m\"upload_path\"\u001b[0m\u001b[0;34m]\u001b[0m\u001b[0;34m)\u001b[0m\u001b[0;34m\u001b[0m\u001b[0;34m\u001b[0m\u001b[0m\n",
      "\u001b[0;32m~/.local/lib/python3.10/site-packages/transformers/trainer.py\u001b[0m in \u001b[0;36mtrain\u001b[0;34m(self, resume_from_checkpoint, trial, ignore_keys_for_eval, **kwargs)\u001b[0m\n\u001b[1;32m   1622\u001b[0m                 \u001b[0mhf_hub_utils\u001b[0m\u001b[0;34m.\u001b[0m\u001b[0menable_progress_bars\u001b[0m\u001b[0;34m(\u001b[0m\u001b[0;34m)\u001b[0m\u001b[0;34m\u001b[0m\u001b[0;34m\u001b[0m\u001b[0m\n\u001b[1;32m   1623\u001b[0m         \u001b[0;32melse\u001b[0m\u001b[0;34m:\u001b[0m\u001b[0;34m\u001b[0m\u001b[0;34m\u001b[0m\u001b[0m\n\u001b[0;32m-> 1624\u001b[0;31m             return inner_training_loop(\n\u001b[0m\u001b[1;32m   1625\u001b[0m                 \u001b[0margs\u001b[0m\u001b[0;34m=\u001b[0m\u001b[0margs\u001b[0m\u001b[0;34m,\u001b[0m\u001b[0;34m\u001b[0m\u001b[0;34m\u001b[0m\u001b[0m\n\u001b[1;32m   1626\u001b[0m                 \u001b[0mresume_from_checkpoint\u001b[0m\u001b[0;34m=\u001b[0m\u001b[0mresume_from_checkpoint\u001b[0m\u001b[0;34m,\u001b[0m\u001b[0;34m\u001b[0m\u001b[0;34m\u001b[0m\u001b[0m\n",
      "\u001b[0;32m~/.local/lib/python3.10/site-packages/transformers/trainer.py\u001b[0m in \u001b[0;36m_inner_training_loop\u001b[0;34m(self, batch_size, args, resume_from_checkpoint, trial, ignore_keys_for_eval)\u001b[0m\n\u001b[1;32m   1959\u001b[0m \u001b[0;34m\u001b[0m\u001b[0m\n\u001b[1;32m   1960\u001b[0m                 \u001b[0;32mwith\u001b[0m \u001b[0mself\u001b[0m\u001b[0;34m.\u001b[0m\u001b[0maccelerator\u001b[0m\u001b[0;34m.\u001b[0m\u001b[0maccumulate\u001b[0m\u001b[0;34m(\u001b[0m\u001b[0mmodel\u001b[0m\u001b[0;34m)\u001b[0m\u001b[0;34m:\u001b[0m\u001b[0;34m\u001b[0m\u001b[0;34m\u001b[0m\u001b[0m\n\u001b[0;32m-> 1961\u001b[0;31m                     \u001b[0mtr_loss_step\u001b[0m \u001b[0;34m=\u001b[0m \u001b[0mself\u001b[0m\u001b[0;34m.\u001b[0m\u001b[0mtraining_step\u001b[0m\u001b[0;34m(\u001b[0m\u001b[0mmodel\u001b[0m\u001b[0;34m,\u001b[0m \u001b[0minputs\u001b[0m\u001b[0;34m)\u001b[0m\u001b[0;34m\u001b[0m\u001b[0;34m\u001b[0m\u001b[0m\n\u001b[0m\u001b[1;32m   1962\u001b[0m \u001b[0;34m\u001b[0m\u001b[0m\n\u001b[1;32m   1963\u001b[0m                 if (\n",
      "\u001b[0;32m~/.local/lib/python3.10/site-packages/transformers/trainer.py\u001b[0m in \u001b[0;36mtraining_step\u001b[0;34m(self, model, inputs)\u001b[0m\n\u001b[1;32m   2909\u001b[0m                 \u001b[0mscaled_loss\u001b[0m\u001b[0;34m.\u001b[0m\u001b[0mbackward\u001b[0m\u001b[0;34m(\u001b[0m\u001b[0;34m)\u001b[0m\u001b[0;34m\u001b[0m\u001b[0;34m\u001b[0m\u001b[0m\n\u001b[1;32m   2910\u001b[0m         \u001b[0;32melse\u001b[0m\u001b[0;34m:\u001b[0m\u001b[0;34m\u001b[0m\u001b[0;34m\u001b[0m\u001b[0m\n\u001b[0;32m-> 2911\u001b[0;31m             \u001b[0mself\u001b[0m\u001b[0;34m.\u001b[0m\u001b[0maccelerator\u001b[0m\u001b[0;34m.\u001b[0m\u001b[0mbackward\u001b[0m\u001b[0;34m(\u001b[0m\u001b[0mloss\u001b[0m\u001b[0;34m)\u001b[0m\u001b[0;34m\u001b[0m\u001b[0;34m\u001b[0m\u001b[0m\n\u001b[0m\u001b[1;32m   2912\u001b[0m \u001b[0;34m\u001b[0m\u001b[0m\n\u001b[1;32m   2913\u001b[0m         \u001b[0;32mreturn\u001b[0m \u001b[0mloss\u001b[0m\u001b[0;34m.\u001b[0m\u001b[0mdetach\u001b[0m\u001b[0;34m(\u001b[0m\u001b[0;34m)\u001b[0m \u001b[0;34m/\u001b[0m \u001b[0mself\u001b[0m\u001b[0;34m.\u001b[0m\u001b[0margs\u001b[0m\u001b[0;34m.\u001b[0m\u001b[0mgradient_accumulation_steps\u001b[0m\u001b[0;34m\u001b[0m\u001b[0;34m\u001b[0m\u001b[0m\n",
      "\u001b[0;32m~/.local/lib/python3.10/site-packages/accelerate/accelerator.py\u001b[0m in \u001b[0;36mbackward\u001b[0;34m(self, loss, **kwargs)\u001b[0m\n\u001b[1;32m   1964\u001b[0m             \u001b[0mself\u001b[0m\u001b[0;34m.\u001b[0m\u001b[0mscaler\u001b[0m\u001b[0;34m.\u001b[0m\u001b[0mscale\u001b[0m\u001b[0;34m(\u001b[0m\u001b[0mloss\u001b[0m\u001b[0;34m)\u001b[0m\u001b[0;34m.\u001b[0m\u001b[0mbackward\u001b[0m\u001b[0;34m(\u001b[0m\u001b[0;34m**\u001b[0m\u001b[0mkwargs\u001b[0m\u001b[0;34m)\u001b[0m\u001b[0;34m\u001b[0m\u001b[0;34m\u001b[0m\u001b[0m\n\u001b[1;32m   1965\u001b[0m         \u001b[0;32melse\u001b[0m\u001b[0;34m:\u001b[0m\u001b[0;34m\u001b[0m\u001b[0;34m\u001b[0m\u001b[0m\n\u001b[0;32m-> 1966\u001b[0;31m             \u001b[0mloss\u001b[0m\u001b[0;34m.\u001b[0m\u001b[0mbackward\u001b[0m\u001b[0;34m(\u001b[0m\u001b[0;34m**\u001b[0m\u001b[0mkwargs\u001b[0m\u001b[0;34m)\u001b[0m\u001b[0;34m\u001b[0m\u001b[0;34m\u001b[0m\u001b[0m\n\u001b[0m\u001b[1;32m   1967\u001b[0m \u001b[0;34m\u001b[0m\u001b[0m\n\u001b[1;32m   1968\u001b[0m     \u001b[0;32mdef\u001b[0m \u001b[0mset_trigger\u001b[0m\u001b[0;34m(\u001b[0m\u001b[0mself\u001b[0m\u001b[0;34m)\u001b[0m\u001b[0;34m:\u001b[0m\u001b[0;34m\u001b[0m\u001b[0;34m\u001b[0m\u001b[0m\n",
      "\u001b[0;32m~/.local/lib/python3.10/site-packages/torch/_tensor.py\u001b[0m in \u001b[0;36mbackward\u001b[0;34m(self, gradient, retain_graph, create_graph, inputs)\u001b[0m\n\u001b[1;32m    520\u001b[0m                 \u001b[0minputs\u001b[0m\u001b[0;34m=\u001b[0m\u001b[0minputs\u001b[0m\u001b[0;34m,\u001b[0m\u001b[0;34m\u001b[0m\u001b[0;34m\u001b[0m\u001b[0m\n\u001b[1;32m    521\u001b[0m             )\n\u001b[0;32m--> 522\u001b[0;31m         torch.autograd.backward(\n\u001b[0m\u001b[1;32m    523\u001b[0m             \u001b[0mself\u001b[0m\u001b[0;34m,\u001b[0m \u001b[0mgradient\u001b[0m\u001b[0;34m,\u001b[0m \u001b[0mretain_graph\u001b[0m\u001b[0;34m,\u001b[0m \u001b[0mcreate_graph\u001b[0m\u001b[0;34m,\u001b[0m \u001b[0minputs\u001b[0m\u001b[0;34m=\u001b[0m\u001b[0minputs\u001b[0m\u001b[0;34m\u001b[0m\u001b[0;34m\u001b[0m\u001b[0m\n\u001b[1;32m    524\u001b[0m         )\n",
      "\u001b[0;32m~/.local/lib/python3.10/site-packages/torch/autograd/__init__.py\u001b[0m in \u001b[0;36mbackward\u001b[0;34m(tensors, grad_tensors, retain_graph, create_graph, grad_variables, inputs)\u001b[0m\n\u001b[1;32m    264\u001b[0m     \u001b[0;31m# some Python versions print out the first line of a multi-line function\u001b[0m\u001b[0;34m\u001b[0m\u001b[0;34m\u001b[0m\u001b[0m\n\u001b[1;32m    265\u001b[0m     \u001b[0;31m# calls in the traceback and some print out the last line\u001b[0m\u001b[0;34m\u001b[0m\u001b[0;34m\u001b[0m\u001b[0m\n\u001b[0;32m--> 266\u001b[0;31m     Variable._execution_engine.run_backward(  # Calls into the C++ engine to run the backward pass\n\u001b[0m\u001b[1;32m    267\u001b[0m         \u001b[0mtensors\u001b[0m\u001b[0;34m,\u001b[0m\u001b[0;34m\u001b[0m\u001b[0;34m\u001b[0m\u001b[0m\n\u001b[1;32m    268\u001b[0m         \u001b[0mgrad_tensors_\u001b[0m\u001b[0;34m,\u001b[0m\u001b[0;34m\u001b[0m\u001b[0;34m\u001b[0m\u001b[0m\n",
      "\u001b[0;31mKeyboardInterrupt\u001b[0m: "
     ]
    }
   ],
   "source": [
    "model = Seshu(\"model_parameters_lora.json\")\n",
    "model.train_lora()"
   ]
  },
  {
   "cell_type": "code",
   "execution_count": null,
   "id": "d904705a",
   "metadata": {},
   "outputs": [],
   "source": [
    "##CONFIG GENERATION"
   ]
  },
  {
   "cell_type": "code",
   "execution_count": 13,
   "id": "9894721b",
   "metadata": {},
   "outputs": [
    {
     "name": "stdout",
     "output_type": "stream",
     "text": [
      "{'model_path': 'mlsquare/pico_seshu_test', 'tokenizer_path': 'google/byt5-large', 'adapter_path': 'mlsquare/mamba_pico_small_dt_projj', 'data': 'mlsquare/CLIENT_samantar_mixed_train_val', 'target_modules': ['model.layers.3.dt_proj']}\n"
     ]
    }
   ],
   "source": [
    "import json\n",
    "data = {\n",
    "    \"model_path\" : \"mlsquare/pico_seshu_test\",\n",
    "    \"tokenizer_path\": \"google/byt5-large\",\n",
    "    \"adapter_path\" : \"mlsquare/mamba_pico_small_dt_projj\",\n",
    "    \"data\" : \"mlsquare/CLIENT_samantar_mixed_train_val\",\n",
    "    \"target_modules\" : [\"model.layers.3.dt_proj\"]\n",
    "}\n",
    "\n",
    "# Convert the dictionary to JSON format\n",
    "json_data = json.dumps(data, indent=4)\n",
    "\n",
    "# Save the JSON data to a file\n",
    "with open(\"model_parameters_lora.json\", \"w\") as json_file:\n",
    "    json_file.write(json_data)\n",
    "    \n",
    "with open(\"model_parameters_lora.json\", \"r\") as json_file:\n",
    "    loaded_data = json.load(json_file)\n",
    "\n",
    "# Print the loaded data\n",
    "print(loaded_data)"
   ]
  },
  {
   "cell_type": "code",
   "execution_count": 7,
   "id": "4ab5bd0e",
   "metadata": {},
   "outputs": [
    {
     "name": "stdout",
     "output_type": "stream",
     "text": [
      "{'vocab_size': 20000, 'd_state': 16, 'd_model': 2560, 'd_conv': 4, 'expand': 2, 'conv_bias': True, 'bias': False, 'n_layer': 64, 'pad_vocab_size_multiple': 8, 'dt_rank': 'auto', 'initializer_range': 0.02, 'tokenizer_path': 'google/byt5-large', 'upload_path': 'mlsquare/130M_Seshu', 'data': 'mlsquare/CLIENT_samantar_mixed_train_val'}\n"
     ]
    }
   ],
   "source": [
    "import json\n",
    "data = {\n",
    "    \"vocab_size\":20000,\n",
    "    \"d_state\":16,\n",
    "    \"d_model\":2560,\n",
    "    \"d_conv\":4,\n",
    "    \"expand\":2,\n",
    "    \"conv_bias\":True,\n",
    "    \"bias\":False,\n",
    "    \"n_layer\":64,\n",
    "    \"pad_vocab_size_multiple\":8,\n",
    "    \"dt_rank\": \"auto\",\n",
    "    \"initializer_range\":0.02,\n",
    "    \"tokenizer_path\": \"google/byt5-large\",\n",
    "    \"upload_path\" : \"mlsquare/130M_Seshu\",\n",
    "    \"data\" : \"mlsquare/CLIENT_samantar_mixed_train_val\"\n",
    "}\n",
    "\n",
    "# Convert the dictionary to JSON format\n",
    "json_data = json.dumps(data, indent=4)\n",
    "\n",
    "# Save the JSON data to a file\n",
    "with open(\"model_parameters.json\", \"w\") as json_file:\n",
    "    json_file.write(json_data)\n",
    "    \n",
    "with open(\"model_parameters.json\", \"r\") as json_file:\n",
    "    loaded_data = json.load(json_file)\n",
    "\n",
    "# Print the loaded data\n",
    "print(loaded_data)"
   ]
  },
  {
   "cell_type": "code",
   "execution_count": null,
   "id": "958888c7",
   "metadata": {},
   "outputs": [],
   "source": []
  }
 ],
 "metadata": {
  "kernelspec": {
   "display_name": "pose",
   "language": "python",
   "name": "pose"
  },
  "language_info": {
   "codemirror_mode": {
    "name": "ipython",
    "version": 3
   },
   "file_extension": ".py",
   "mimetype": "text/x-python",
   "name": "python",
   "nbconvert_exporter": "python",
   "pygments_lexer": "ipython3",
   "version": "3.10.12"
  }
 },
 "nbformat": 4,
 "nbformat_minor": 5
}
